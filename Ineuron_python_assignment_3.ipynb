{
  "nbformat": 4,
  "nbformat_minor": 0,
  "metadata": {
    "colab": {
      "name": "Ineuron python assignment 3.ipynb",
      "provenance": [],
      "collapsed_sections": []
    },
    "kernelspec": {
      "name": "python3",
      "display_name": "Python 3"
    }
  },
  "cells": [
    {
      "cell_type": "markdown",
      "metadata": {
        "id": "6bWb_W-ONptP"
      },
      "source": [
        "1.1 Write a Python Program to implement your own myreduce() function which works exactly like Python's built-in function reduce()"
      ]
    },
    {
      "cell_type": "code",
      "metadata": {
        "id": "AETA5afzFj9A"
      },
      "source": [
        "def myreduce(anyfunc, sequence):\r\n",
        "\r\n",
        "  result = sequence[0]\r\n",
        "\r\n",
        "  for item in sequence[1:]:\r\n",
        "   result = anyfunc(result, item)\r\n",
        "\r\n",
        "  return result"
      ],
      "execution_count": 82,
      "outputs": []
    },
    {
      "cell_type": "code",
      "metadata": {
        "colab": {
          "base_uri": "https://localhost:8080/"
        },
        "id": "Rw30SiETGKAD",
        "outputId": "b2a5d30c-e15d-43b8-860f-f69dd74f58ed"
      },
      "source": [
        "a = []\r\n",
        "\r\n",
        "for i in range(1,20,2):\r\n",
        "  a.append(i)\r\n",
        "a"
      ],
      "execution_count": 84,
      "outputs": [
        {
          "output_type": "execute_result",
          "data": {
            "text/plain": [
              "[1, 3, 5, 7, 9, 11, 13, 15, 17, 19]"
            ]
          },
          "metadata": {
            "tags": []
          },
          "execution_count": 84
        }
      ]
    },
    {
      "cell_type": "code",
      "metadata": {
        "colab": {
          "base_uri": "https://localhost:8080/"
        },
        "id": "ptVjZte9Fvkt",
        "outputId": "d5298547-ab4a-49b4-e96f-72bdced13203"
      },
      "source": [
        "myreduce(lambda x,y:x+y, a)"
      ],
      "execution_count": 85,
      "outputs": [
        {
          "output_type": "execute_result",
          "data": {
            "text/plain": [
              "100"
            ]
          },
          "metadata": {
            "tags": []
          },
          "execution_count": 85
        }
      ]
    },
    {
      "cell_type": "markdown",
      "metadata": {
        "id": "fGCXdx_7HQjM"
      },
      "source": [
        "1.2 Write a Python program to implement your own myfilter() function which works exactly\r\n",
        "like Python's built-in function filter()"
      ]
    },
    {
      "cell_type": "code",
      "metadata": {
        "id": "JKYnCpOIHcek"
      },
      "source": [
        "def myfilter(anyfunc, sequence):\r\n",
        "\r\n",
        "\r\n",
        " result = []\r\n",
        "\r\n",
        " for item in sequence:\r\n",
        "  if anyfunc(item):\r\n",
        "   result.append(item)\r\n",
        "\r\n",
        "\r\n",
        " return result"
      ],
      "execution_count": 86,
      "outputs": []
    },
    {
      "cell_type": "code",
      "metadata": {
        "colab": {
          "base_uri": "https://localhost:8080/"
        },
        "id": "7pA6f9byIayL",
        "outputId": "8e84acf4-ea67-4ab1-be68-25a3433ac757"
      },
      "source": [
        "myfilter(lambda x:x>10, a)"
      ],
      "execution_count": 87,
      "outputs": [
        {
          "output_type": "execute_result",
          "data": {
            "text/plain": [
              "[11, 13, 15, 17, 19]"
            ]
          },
          "metadata": {
            "tags": []
          },
          "execution_count": 87
        }
      ]
    },
    {
      "cell_type": "markdown",
      "metadata": {
        "id": "4Ytuu-LFIyf-"
      },
      "source": [
        "2. Implement List comprehensions to produce the following lists.\r\n",
        "\r\n",
        "Write List comprehensions to produce the following Lists.\r\n",
        "\r\n",
        "['x', 'xx', 'xxx', 'xxxx', 'y', 'yy', 'yyy', 'yyyy', 'z', 'zz', 'zzz', 'zzzz']\r\n",
        "['x', 'y', 'z', 'xx', 'yy', 'zz', 'xxx', 'yyy', 'zzz', 'xxxx', 'yyyy', 'zzzz']\r\n",
        "[[2], [3], [4], [3], [4], [5], [4], [5], [6]] [[2, 3, 4, 5], [3, 4, 5, 6],\r\n",
        "[4, 5, 6, 7], [5, 6, 7, 8]]\r\n",
        "[(1, 1), (2, 1), (3, 1), (1, 2), (2, 2), (3, 2), (1, 3), (2, 3), (3, 3)]"
      ]
    },
    {
      "cell_type": "code",
      "metadata": {
        "colab": {
          "base_uri": "https://localhost:8080/"
        },
        "id": "sB0IHts6Jpiw",
        "outputId": "9d3e4845-5f67-4e7d-f603-0bd8595da919"
      },
      "source": [
        "word = \"ACADGILD\"\r\n",
        "alphabet_list = [ alphabet for alphabet in word ]\r\n",
        "print (\"ACADGILD => \" + str(alphabet_list))"
      ],
      "execution_count": 88,
      "outputs": [
        {
          "output_type": "stream",
          "text": [
            "ACADGILD => ['A', 'C', 'A', 'D', 'G', 'I', 'L', 'D']\n"
          ],
          "name": "stdout"
        }
      ]
    },
    {
      "cell_type": "code",
      "metadata": {
        "colab": {
          "base_uri": "https://localhost:8080/"
        },
        "id": "gMvtfUvgKFR9",
        "outputId": "d82a0f26-b95d-4b91-a97b-ab897be77009"
      },
      "source": [
        "input_list = ['x','y','z']\r\n",
        "result = [ item*num for item in input_list for num in range(1,5)  ]\r\n",
        "print(\"['x','y','z'] => \" +   str(result))"
      ],
      "execution_count": 89,
      "outputs": [
        {
          "output_type": "stream",
          "text": [
            "['x','y','z'] => ['x', 'xx', 'xxx', 'xxxx', 'y', 'yy', 'yyy', 'yyyy', 'z', 'zz', 'zzz', 'zzzz']\n"
          ],
          "name": "stdout"
        }
      ]
    },
    {
      "cell_type": "code",
      "metadata": {
        "colab": {
          "base_uri": "https://localhost:8080/"
        },
        "id": "RVr98kS-LgSu",
        "outputId": "dc56d3e5-a94c-4a20-be57-98a5a89c5a96"
      },
      "source": [
        "input_list = [2,3,4]\r\n",
        "result = [ [item+num] for item in input_list for num in range(0,3)]\r\n",
        "print(\"[2,3,4] =>\" +  str(result))"
      ],
      "execution_count": 96,
      "outputs": [
        {
          "output_type": "stream",
          "text": [
            "[2,3,4] =>[[2], [3], [4], [3], [4], [5], [4], [5], [6]]\n"
          ],
          "name": "stdout"
        }
      ]
    },
    {
      "cell_type": "code",
      "metadata": {
        "colab": {
          "base_uri": "https://localhost:8080/"
        },
        "id": "fm0Us5BEPxhF",
        "outputId": "adc5f950-9fa6-4d7e-a36b-92dbaa39470a"
      },
      "source": [
        "input_list = [2,3,4,5]\r\n",
        "result = [ [item+num for item in input_list] for num in range(0,4)  ]\r\n",
        "print(\"[2,3,4,5] =>\" +  str(result))"
      ],
      "execution_count": 97,
      "outputs": [
        {
          "output_type": "stream",
          "text": [
            "[2,3,4,5] =>[[2, 3, 4, 5], [3, 4, 5, 6], [4, 5, 6, 7], [5, 6, 7, 8]]\n"
          ],
          "name": "stdout"
        }
      ]
    },
    {
      "cell_type": "code",
      "metadata": {
        "colab": {
          "base_uri": "https://localhost:8080/"
        },
        "id": "xA_JhTbePxn2",
        "outputId": "4e288309-44f4-431a-f96a-26273dafb84e"
      },
      "source": [
        "input_list=[1,2,3]\r\n",
        "result = [ (b,a) for a in input_list for b in input_list]\r\n",
        "print(\"[1,2,3] =>\" +  str(result))"
      ],
      "execution_count": 98,
      "outputs": [
        {
          "output_type": "stream",
          "text": [
            "[1,2,3] =>[(1, 1), (2, 1), (3, 1), (1, 2), (2, 2), (3, 2), (1, 3), (2, 3), (3, 3)]\n"
          ],
          "name": "stdout"
        }
      ]
    }
  ]
}