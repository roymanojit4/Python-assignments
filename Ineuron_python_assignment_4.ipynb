{
  "nbformat": 4,
  "nbformat_minor": 0,
  "metadata": {
    "colab": {
      "name": "Ineuron python assignment 4.ipynb",
      "provenance": []
    },
    "kernelspec": {
      "name": "python3",
      "display_name": "Python 3"
    }
  },
  "cells": [
    {
      "cell_type": "markdown",
      "metadata": {
        "id": "goqzX_HQ3LyB"
      },
      "source": [
        "1.1 Write a Python Program(with class concepts) to find the area of the triangle using the below\r\n",
        "formula.\r\n",
        "\r\n",
        "area = (s*(s-a)*(s-b)*(s-c)) ** 0.5\r\n",
        "\r\n",
        "Function to take the length of the sides of triangle from user should be defined in the parent\r\n",
        "class and function to calculate the area should be defined in subclass."
      ]
    },
    {
      "cell_type": "code",
      "metadata": {
        "colab": {
          "base_uri": "https://localhost:8080/"
        },
        "id": "naCECOzl3UPU",
        "outputId": "25c9a6d7-69e3-4f7b-b02d-5505dd6066ee"
      },
      "source": [
        "class poly:\r\n",
        "    def __init__(self,a,b,c):\r\n",
        "        self.a = float(a)\r\n",
        "        self.b = float(b)\r\n",
        "        self.c = float(c)\r\n",
        "a= int(input(\"a=\"))\r\n",
        "b= int(input(\"b=\"))\r\n",
        "c= int(input(\"c=\"))\r\n",
        "\r\n",
        "class triangle(poly):\r\n",
        "    def __init__(self,a,b,c):\r\n",
        "        super().__init__(a,b,c)\r\n",
        "\r\n",
        "    def get_area(self):\r\n",
        "        s = (a + b + c) / 2\r\n",
        "        return (s*(s-a)*(s-b)*(s-c)) ** 0.5        \r\n",
        "\r\n",
        "t = triangle(a,b,c)\r\n",
        "print(\"area : {}\".format(t.get_area()))"
      ],
      "execution_count": 5,
      "outputs": [
        {
          "output_type": "stream",
          "text": [
            "a=20\n",
            "b=20\n",
            "c=24\n",
            "area : 192.0\n"
          ],
          "name": "stdout"
        }
      ]
    },
    {
      "cell_type": "markdown",
      "metadata": {
        "id": "1l1Eb8CC8EL5"
      },
      "source": [
        "1.2 Write a function filter_long_words() that takes a list of words and an integer n and returns\r\n",
        "the list of words that are longer than n."
      ]
    },
    {
      "cell_type": "code",
      "metadata": {
        "id": "ryXYZWP-8nzG"
      },
      "source": [
        "def filter_long_words(strings, number):\r\n",
        "\r\n",
        "   strings = input('Please enter a word: ')\r\n",
        "   number = int(input('Please enter a number: '))\r\n",
        "\r\n",
        "  \r\n",
        "   if len(strings)>number:\r\n",
        "      print(f'the word is {strings}')\r\n",
        "   else:\r\n",
        "      print(f'the size of the word {strings} is lees than the number')"
      ],
      "execution_count": 37,
      "outputs": []
    },
    {
      "cell_type": "code",
      "metadata": {
        "colab": {
          "base_uri": "https://localhost:8080/"
        },
        "id": "pUvh3Er3AAD5",
        "outputId": "476b5dca-d89b-4713-e46f-36e5d0b2c783"
      },
      "source": [
        "#checking the above function\r\n",
        "filter_long_words(strings, number)"
      ],
      "execution_count": 39,
      "outputs": [
        {
          "output_type": "stream",
          "text": [
            "Please enter a word: dgdfgfdgdf\n",
            "Please enter a number: 5\n",
            "the word is dgdfgfdgdf\n"
          ],
          "name": "stdout"
        }
      ]
    },
    {
      "cell_type": "markdown",
      "metadata": {
        "id": "9SzZj55wG_uA"
      },
      "source": [
        "2.1 Write a Python program using function concept that maps list of words into a list of integers\r\n",
        "representing the lengths of the corresponding words.\r\n",
        "\r\n",
        "Hint: If a list [ ab,cde,erty] is passed on to the python function output should come as [2,3,4]\r\n",
        "Here 2,3 and 4 are the lengths of the words in the list."
      ]
    },
    {
      "cell_type": "code",
      "metadata": {
        "id": "5ay9qyifG-i_"
      },
      "source": [
        "def len_of_words(lst):\r\n",
        "  lenth = []\r\n",
        "  for i in lst:\r\n",
        "    lenth.append(len(i))\r\n",
        "  print(lenth)"
      ],
      "execution_count": 57,
      "outputs": []
    },
    {
      "cell_type": "code",
      "metadata": {
        "colab": {
          "base_uri": "https://localhost:8080/"
        },
        "id": "vV9lSuZlHy_i",
        "outputId": "183bb084-ec3e-4a27-94fe-8e50460e0c14"
      },
      "source": [
        "len_of_words(['mfgkg','fhgksertt','rferotror','feernaksldd'])"
      ],
      "execution_count": 59,
      "outputs": [
        {
          "output_type": "stream",
          "text": [
            "[5, 9, 9, 11]\n"
          ],
          "name": "stdout"
        }
      ]
    },
    {
      "cell_type": "markdown",
      "metadata": {
        "id": "7MdrtetTLvcg"
      },
      "source": [
        "Write a Python function which takes a character (i.e. a string of length 1) and returns True if\r\n",
        "it is a vowel, False otherwise."
      ]
    },
    {
      "cell_type": "code",
      "metadata": {
        "id": "LoJY3zetJmtN"
      },
      "source": [
        "vowel_list = ['a','e','i','o','u'\r\n",
        "]\r\n",
        "def vowel_checker(InputChar):\r\n",
        "  if len(InputChar)==1:\r\n",
        "    if (InputChar.lower() in vowel_list):\r\n",
        "      return True\r\n",
        "    else:\r\n",
        "      return False\r\n",
        "\r\n",
        "\r\n"
      ],
      "execution_count": 60,
      "outputs": []
    },
    {
      "cell_type": "code",
      "metadata": {
        "colab": {
          "base_uri": "https://localhost:8080/"
        },
        "id": "EepjjgcYRsxc",
        "outputId": "2ac10cd2-e22a-41a1-df81-326b90266007"
      },
      "source": [
        "#checking this above code\r\n",
        "\r\n",
        "vowel_checker('A')"
      ],
      "execution_count": 65,
      "outputs": [
        {
          "output_type": "execute_result",
          "data": {
            "text/plain": [
              "True"
            ]
          },
          "metadata": {
            "tags": []
          },
          "execution_count": 65
        }
      ]
    }
  ]
}