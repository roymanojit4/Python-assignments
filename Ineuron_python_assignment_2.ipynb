{
  "nbformat": 4,
  "nbformat_minor": 0,
  "metadata": {
    "colab": {
      "name": "Ineuron python assignment 2.ipynb",
      "provenance": []
    },
    "kernelspec": {
      "name": "python3",
      "display_name": "Python 3"
    }
  },
  "cells": [
    {
      "cell_type": "markdown",
      "metadata": {
        "id": "VZDT1etN2AyQ"
      },
      "source": [
        "1. Create the below pattern using nested for loop in Python.\r\n",
        "\r\n",
        "*\r\n",
        "* *\r\n",
        "* * *\r\n",
        "* * * *\r\n",
        "* * * * *\r\n",
        "* * * *\r\n",
        "* * *\r\n",
        "* *\r\n",
        "*"
      ]
    },
    {
      "cell_type": "code",
      "metadata": {
        "colab": {
          "base_uri": "https://localhost:8080/"
        },
        "id": "g-wQkSwe2O2o",
        "outputId": "74f93e0e-c7f6-449f-8688-e9ef8ac46bc1"
      },
      "source": [
        "print('*')\r\n",
        "\r\n",
        "for i in range(2):\r\n",
        "  print('*',end=' ')\r\n",
        "\r\n",
        "print()\r\n",
        "for i in range(3):\r\n",
        "  print('*',end=' ')\r\n",
        "print()\r\n",
        "for i in range(4):\r\n",
        "  print('*',end=' ')\r\n",
        "print()\r\n",
        "for i in range(5):\r\n",
        "  print('*',end=' ')\r\n",
        "print()\r\n",
        "for i in range(4):\r\n",
        "  print('*',end=' ')\r\n",
        "print()\r\n",
        "for i in range(3):\r\n",
        "  print('*',end=' ')\r\n",
        "print()\r\n",
        "for i in range(2):\r\n",
        "  print('*',end=' ')\r\n",
        "print()\r\n",
        "print('*')"
      ],
      "execution_count": 8,
      "outputs": [
        {
          "output_type": "stream",
          "text": [
            "*\n",
            "* * \n",
            "* * * \n",
            "* * * * \n",
            "* * * * * \n",
            "* * * * \n",
            "* * * \n",
            "* * \n",
            "*\n"
          ],
          "name": "stdout"
        }
      ]
    },
    {
      "cell_type": "markdown",
      "metadata": {
        "id": "CY108DeN3X7c"
      },
      "source": [
        "2. Write a Python program to reverse a word after accepting the input from the user.\r\n",
        "\r\n"
      ]
    },
    {
      "cell_type": "code",
      "metadata": {
        "colab": {
          "base_uri": "https://localhost:8080/"
        },
        "id": "P_SvK1dO3qyh",
        "outputId": "d6a3c177-2661-4660-f104-52bfb41ac12f"
      },
      "source": [
        "input_word = input('Please enter the word: ')\r\n",
        "\r\n",
        "print(input_word[::-1])"
      ],
      "execution_count": 11,
      "outputs": [
        {
          "output_type": "stream",
          "text": [
            "Please enter the word: Assignments\n",
            "stnemngissA\n"
          ],
          "name": "stdout"
        }
      ]
    }
  ]
}